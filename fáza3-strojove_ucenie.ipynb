{
 "cells": [
  {
   "cell_type": "markdown",
   "id": "3629942c",
   "metadata": {},
   "source": [
    "**Fáza 3 - strojové učenie**\n",
    "\n",
    "Michaela Hanková, Martin Rudolf\n",
    "\n",
    "50%:50%\n",
    "\n",
    "cvičenie: piatok 10:00\n",
    "\n",
    "dataset: 163"
   ]
  },
  {
   "cell_type": "code",
   "execution_count": 1,
   "id": "044743a8",
   "metadata": {},
   "outputs": [],
   "source": [
    "import numpy as np\n",
    "import pandas as pd\n",
    "import datetime as dt\n",
    "import matplotlib.pyplot as plt\n",
    "import seaborn as sns\n",
    "import matplotlib.pylab as pylab\n",
    "import scipy.stats as stats\n",
    "from matplotlib.pyplot import figure \n",
    "from sklearn.impute import SimpleImputer\n",
    "from numpy import isnan\n",
    "from sklearn.preprocessing import LabelEncoder, StandardScaler, MinMaxScaler\n",
    "import category_encoders as ce\n",
    "from sklearn.feature_selection import RFE, RFECV\n",
    "from sklearn.svm import SVR\n",
    "from sklearn.metrics import recall_score\n",
    "from sklearn.metrics import precision_score\n",
    "from sklearn.metrics import accuracy_score, classification_report, plot_confusion_matrix\n",
    "from sklearn import tree\n",
    "from sklearn.model_selection import train_test_split\n",
    "from sklearn.linear_model import LogisticRegression\n",
    "from sklearn.pipeline import Pipeline\n",
    "from sklearn.compose import ColumnTransformer\n",
    "from sklearn.preprocessing import OneHotEncoder\n",
    "from sklearn.model_selection import cross_val_score\n",
    "from sklearn import set_config\n",
    "from sklearn.model_selection import cross_validate\n",
    "import pandas as pd\n",
    "import numpy as np\n",
    "import matplotlib.pyplot as plt\n",
    "import seaborn\n",
    "plt.rcParams['figure.figsize'] = 9, 6\n",
    "from sklearn.model_selection import train_test_split\n",
    "from sklearn.ensemble import RandomForestClassifier\n",
    "from sklearn.model_selection import GridSearchCV\n",
    "from sklearn.metrics import accuracy_score\n",
    "from sklearn.model_selection import validation_curve"
   ]
  },
  {
   "cell_type": "code",
   "execution_count": 2,
   "id": "88013fec",
   "metadata": {},
   "outputs": [],
   "source": [
    "data_labor = pd.read_csv(\"163/labor.csv\", sep='\\t', index_col=0)\n",
    "data_labor['smoker'] = data_labor['smoker'].str.replace('Y','yes')\n",
    "data_labor['smoker'] = data_labor['smoker'].str.replace('N','no')\n",
    "data_labor['relationship'] = data_labor['relationship'].str.replace('divoced','divorced')\n",
    "data_labor = data_labor.drop_duplicates()"
   ]
  },
  {
   "cell_type": "code",
   "execution_count": 3,
   "id": "d5d05398",
   "metadata": {},
   "outputs": [],
   "source": [
    "data_profiles = pd.read_csv(r\"163/profiles.csv\", sep='\\t', index_col=0)\n",
    "# v stĺpcoch address a residence boli v záznamoch znaky '\\n' , nahradím tento znak medzerou\n",
    "data_profiles['address'] = data_profiles['address'].replace(r'\\s+|\\\\n', ' ', regex=True)\n",
    "data_profiles['residence'] = data_profiles['residence'].replace(r'\\s+|\\\\n', ' ', regex=True)\n",
    "# nastavenie rovnakého formátu pre dátumy\n",
    "data_profiles['birthdate'] = pd.to_datetime(data_profiles['birthdate'])\n",
    "# upravenie hodnoty v stĺpci 'race' z blsck na Black, black na Black, white na White\n",
    "data_profiles['race'] = data_profiles['race'].str.replace('blsck','Black')\n",
    "data_profiles['race'] = data_profiles['race'].str.replace('black','Black')\n",
    "data_profiles['race'] = data_profiles['race'].str.replace('white','White')"
   ]
  },
  {
   "cell_type": "code",
   "execution_count": 4,
   "id": "30f17101",
   "metadata": {},
   "outputs": [],
   "source": [
    "spojene_datasety = data_labor.set_index('ssn').join(data_profiles.set_index('ssn'), rsuffix = 'name')\n",
    "spojene_datasety = spojene_datasety.drop(columns = 'namename', axis = 1)"
   ]
  },
  {
   "cell_type": "markdown",
   "id": "0c6420e5",
   "metadata": {},
   "source": [
    "Ako môžeme vidieť, najvyššiu hodnotu korelácie s premennou indicator má hematokrit."
   ]
  },
  {
   "cell_type": "code",
   "execution_count": 5,
   "id": "0dd177fd",
   "metadata": {},
   "outputs": [
    {
     "data": {
      "text/html": [
       "<div>\n",
       "<style scoped>\n",
       "    .dataframe tbody tr th:only-of-type {\n",
       "        vertical-align: middle;\n",
       "    }\n",
       "\n",
       "    .dataframe tbody tr th {\n",
       "        vertical-align: top;\n",
       "    }\n",
       "\n",
       "    .dataframe thead th {\n",
       "        text-align: right;\n",
       "    }\n",
       "</style>\n",
       "<table border=\"1\" class=\"dataframe\">\n",
       "  <thead>\n",
       "    <tr style=\"text-align: right;\">\n",
       "      <th></th>\n",
       "      <th>leukocyty</th>\n",
       "      <th>hemoglobin</th>\n",
       "      <th>trombocyty</th>\n",
       "      <th>indicator</th>\n",
       "      <th>alt</th>\n",
       "      <th>weight</th>\n",
       "      <th>ast</th>\n",
       "      <th>alp</th>\n",
       "      <th>hematokrit</th>\n",
       "      <th>hbver</th>\n",
       "      <th>etytr</th>\n",
       "      <th>er-cv</th>\n",
       "      <th>erytrocyty</th>\n",
       "    </tr>\n",
       "  </thead>\n",
       "  <tbody>\n",
       "    <tr>\n",
       "      <th>leukocyty</th>\n",
       "      <td>1.000000</td>\n",
       "      <td>0.004640</td>\n",
       "      <td>-0.014721</td>\n",
       "      <td>0.015860</td>\n",
       "      <td>-0.004818</td>\n",
       "      <td>-0.011178</td>\n",
       "      <td>0.002531</td>\n",
       "      <td>0.000989</td>\n",
       "      <td>-0.015768</td>\n",
       "      <td>-0.009489</td>\n",
       "      <td>0.007969</td>\n",
       "      <td>0.012035</td>\n",
       "      <td>-0.005183</td>\n",
       "    </tr>\n",
       "    <tr>\n",
       "      <th>hemoglobin</th>\n",
       "      <td>0.004640</td>\n",
       "      <td>1.000000</td>\n",
       "      <td>-0.025521</td>\n",
       "      <td>0.341538</td>\n",
       "      <td>-0.003252</td>\n",
       "      <td>0.016932</td>\n",
       "      <td>0.000555</td>\n",
       "      <td>-0.229272</td>\n",
       "      <td>-0.377629</td>\n",
       "      <td>-0.406118</td>\n",
       "      <td>0.000632</td>\n",
       "      <td>-0.002817</td>\n",
       "      <td>0.193101</td>\n",
       "    </tr>\n",
       "    <tr>\n",
       "      <th>trombocyty</th>\n",
       "      <td>-0.014721</td>\n",
       "      <td>-0.025521</td>\n",
       "      <td>1.000000</td>\n",
       "      <td>-0.013625</td>\n",
       "      <td>0.012614</td>\n",
       "      <td>0.008477</td>\n",
       "      <td>0.008704</td>\n",
       "      <td>0.006070</td>\n",
       "      <td>0.016667</td>\n",
       "      <td>0.007110</td>\n",
       "      <td>-0.021420</td>\n",
       "      <td>0.014990</td>\n",
       "      <td>-0.004625</td>\n",
       "    </tr>\n",
       "    <tr>\n",
       "      <th>indicator</th>\n",
       "      <td>0.015860</td>\n",
       "      <td>0.341538</td>\n",
       "      <td>-0.013625</td>\n",
       "      <td>1.000000</td>\n",
       "      <td>-0.062122</td>\n",
       "      <td>0.004941</td>\n",
       "      <td>0.000201</td>\n",
       "      <td>0.075600</td>\n",
       "      <td>-0.342863</td>\n",
       "      <td>-0.001359</td>\n",
       "      <td>-0.006138</td>\n",
       "      <td>-0.004004</td>\n",
       "      <td>-0.003483</td>\n",
       "    </tr>\n",
       "    <tr>\n",
       "      <th>alt</th>\n",
       "      <td>-0.004818</td>\n",
       "      <td>-0.003252</td>\n",
       "      <td>0.012614</td>\n",
       "      <td>-0.062122</td>\n",
       "      <td>1.000000</td>\n",
       "      <td>-0.000318</td>\n",
       "      <td>-0.004409</td>\n",
       "      <td>-0.106587</td>\n",
       "      <td>0.073943</td>\n",
       "      <td>0.066469</td>\n",
       "      <td>-0.017070</td>\n",
       "      <td>0.015463</td>\n",
       "      <td>0.447086</td>\n",
       "    </tr>\n",
       "    <tr>\n",
       "      <th>weight</th>\n",
       "      <td>-0.011178</td>\n",
       "      <td>0.016932</td>\n",
       "      <td>0.008477</td>\n",
       "      <td>0.004941</td>\n",
       "      <td>-0.000318</td>\n",
       "      <td>1.000000</td>\n",
       "      <td>-0.010877</td>\n",
       "      <td>0.011238</td>\n",
       "      <td>0.006388</td>\n",
       "      <td>0.014668</td>\n",
       "      <td>-0.002592</td>\n",
       "      <td>-0.011031</td>\n",
       "      <td>-0.005883</td>\n",
       "    </tr>\n",
       "    <tr>\n",
       "      <th>ast</th>\n",
       "      <td>0.002531</td>\n",
       "      <td>0.000555</td>\n",
       "      <td>0.008704</td>\n",
       "      <td>0.000201</td>\n",
       "      <td>-0.004409</td>\n",
       "      <td>-0.010877</td>\n",
       "      <td>1.000000</td>\n",
       "      <td>0.006996</td>\n",
       "      <td>0.010907</td>\n",
       "      <td>0.006823</td>\n",
       "      <td>0.007899</td>\n",
       "      <td>-0.014574</td>\n",
       "      <td>0.006656</td>\n",
       "    </tr>\n",
       "    <tr>\n",
       "      <th>alp</th>\n",
       "      <td>0.000989</td>\n",
       "      <td>-0.229272</td>\n",
       "      <td>0.006070</td>\n",
       "      <td>0.075600</td>\n",
       "      <td>-0.106587</td>\n",
       "      <td>0.011238</td>\n",
       "      <td>0.006996</td>\n",
       "      <td>1.000000</td>\n",
       "      <td>0.046733</td>\n",
       "      <td>0.134554</td>\n",
       "      <td>-0.011134</td>\n",
       "      <td>-0.001320</td>\n",
       "      <td>-0.190029</td>\n",
       "    </tr>\n",
       "    <tr>\n",
       "      <th>hematokrit</th>\n",
       "      <td>-0.015768</td>\n",
       "      <td>-0.377629</td>\n",
       "      <td>0.016667</td>\n",
       "      <td>-0.342863</td>\n",
       "      <td>0.073943</td>\n",
       "      <td>0.006388</td>\n",
       "      <td>0.010907</td>\n",
       "      <td>0.046733</td>\n",
       "      <td>1.000000</td>\n",
       "      <td>0.354859</td>\n",
       "      <td>0.007639</td>\n",
       "      <td>-0.003259</td>\n",
       "      <td>0.110563</td>\n",
       "    </tr>\n",
       "    <tr>\n",
       "      <th>hbver</th>\n",
       "      <td>-0.009489</td>\n",
       "      <td>-0.406118</td>\n",
       "      <td>0.007110</td>\n",
       "      <td>-0.001359</td>\n",
       "      <td>0.066469</td>\n",
       "      <td>0.014668</td>\n",
       "      <td>0.006823</td>\n",
       "      <td>0.134554</td>\n",
       "      <td>0.354859</td>\n",
       "      <td>1.000000</td>\n",
       "      <td>-0.025003</td>\n",
       "      <td>0.002978</td>\n",
       "      <td>-0.021696</td>\n",
       "    </tr>\n",
       "    <tr>\n",
       "      <th>etytr</th>\n",
       "      <td>0.007969</td>\n",
       "      <td>0.000632</td>\n",
       "      <td>-0.021420</td>\n",
       "      <td>-0.006138</td>\n",
       "      <td>-0.017070</td>\n",
       "      <td>-0.002592</td>\n",
       "      <td>0.007899</td>\n",
       "      <td>-0.011134</td>\n",
       "      <td>0.007639</td>\n",
       "      <td>-0.025003</td>\n",
       "      <td>1.000000</td>\n",
       "      <td>-0.004568</td>\n",
       "      <td>0.010013</td>\n",
       "    </tr>\n",
       "    <tr>\n",
       "      <th>er-cv</th>\n",
       "      <td>0.012035</td>\n",
       "      <td>-0.002817</td>\n",
       "      <td>0.014990</td>\n",
       "      <td>-0.004004</td>\n",
       "      <td>0.015463</td>\n",
       "      <td>-0.011031</td>\n",
       "      <td>-0.014574</td>\n",
       "      <td>-0.001320</td>\n",
       "      <td>-0.003259</td>\n",
       "      <td>0.002978</td>\n",
       "      <td>-0.004568</td>\n",
       "      <td>1.000000</td>\n",
       "      <td>-0.008318</td>\n",
       "    </tr>\n",
       "    <tr>\n",
       "      <th>erytrocyty</th>\n",
       "      <td>-0.005183</td>\n",
       "      <td>0.193101</td>\n",
       "      <td>-0.004625</td>\n",
       "      <td>-0.003483</td>\n",
       "      <td>0.447086</td>\n",
       "      <td>-0.005883</td>\n",
       "      <td>0.006656</td>\n",
       "      <td>-0.190029</td>\n",
       "      <td>0.110563</td>\n",
       "      <td>-0.021696</td>\n",
       "      <td>0.010013</td>\n",
       "      <td>-0.008318</td>\n",
       "      <td>1.000000</td>\n",
       "    </tr>\n",
       "  </tbody>\n",
       "</table>\n",
       "</div>"
      ],
      "text/plain": [
       "            leukocyty  hemoglobin  trombocyty  indicator       alt    weight  \\\n",
       "leukocyty    1.000000    0.004640   -0.014721   0.015860 -0.004818 -0.011178   \n",
       "hemoglobin   0.004640    1.000000   -0.025521   0.341538 -0.003252  0.016932   \n",
       "trombocyty  -0.014721   -0.025521    1.000000  -0.013625  0.012614  0.008477   \n",
       "indicator    0.015860    0.341538   -0.013625   1.000000 -0.062122  0.004941   \n",
       "alt         -0.004818   -0.003252    0.012614  -0.062122  1.000000 -0.000318   \n",
       "weight      -0.011178    0.016932    0.008477   0.004941 -0.000318  1.000000   \n",
       "ast          0.002531    0.000555    0.008704   0.000201 -0.004409 -0.010877   \n",
       "alp          0.000989   -0.229272    0.006070   0.075600 -0.106587  0.011238   \n",
       "hematokrit  -0.015768   -0.377629    0.016667  -0.342863  0.073943  0.006388   \n",
       "hbver       -0.009489   -0.406118    0.007110  -0.001359  0.066469  0.014668   \n",
       "etytr        0.007969    0.000632   -0.021420  -0.006138 -0.017070 -0.002592   \n",
       "er-cv        0.012035   -0.002817    0.014990  -0.004004  0.015463 -0.011031   \n",
       "erytrocyty  -0.005183    0.193101   -0.004625  -0.003483  0.447086 -0.005883   \n",
       "\n",
       "                 ast       alp  hematokrit     hbver     etytr     er-cv  \\\n",
       "leukocyty   0.002531  0.000989   -0.015768 -0.009489  0.007969  0.012035   \n",
       "hemoglobin  0.000555 -0.229272   -0.377629 -0.406118  0.000632 -0.002817   \n",
       "trombocyty  0.008704  0.006070    0.016667  0.007110 -0.021420  0.014990   \n",
       "indicator   0.000201  0.075600   -0.342863 -0.001359 -0.006138 -0.004004   \n",
       "alt        -0.004409 -0.106587    0.073943  0.066469 -0.017070  0.015463   \n",
       "weight     -0.010877  0.011238    0.006388  0.014668 -0.002592 -0.011031   \n",
       "ast         1.000000  0.006996    0.010907  0.006823  0.007899 -0.014574   \n",
       "alp         0.006996  1.000000    0.046733  0.134554 -0.011134 -0.001320   \n",
       "hematokrit  0.010907  0.046733    1.000000  0.354859  0.007639 -0.003259   \n",
       "hbver       0.006823  0.134554    0.354859  1.000000 -0.025003  0.002978   \n",
       "etytr       0.007899 -0.011134    0.007639 -0.025003  1.000000 -0.004568   \n",
       "er-cv      -0.014574 -0.001320   -0.003259  0.002978 -0.004568  1.000000   \n",
       "erytrocyty  0.006656 -0.190029    0.110563 -0.021696  0.010013 -0.008318   \n",
       "\n",
       "            erytrocyty  \n",
       "leukocyty    -0.005183  \n",
       "hemoglobin    0.193101  \n",
       "trombocyty   -0.004625  \n",
       "indicator    -0.003483  \n",
       "alt           0.447086  \n",
       "weight       -0.005883  \n",
       "ast           0.006656  \n",
       "alp          -0.190029  \n",
       "hematokrit    0.110563  \n",
       "hbver        -0.021696  \n",
       "etytr         0.010013  \n",
       "er-cv        -0.008318  \n",
       "erytrocyty    1.000000  "
      ]
     },
     "execution_count": 5,
     "metadata": {},
     "output_type": "execute_result"
    }
   ],
   "source": [
    "spojene_datasety.corr()"
   ]
  },
  {
   "cell_type": "markdown",
   "id": "844bfb04",
   "metadata": {},
   "source": [
    "Načítanie trénovacích a testovacích dát z fázy 2"
   ]
  },
  {
   "cell_type": "code",
   "execution_count": 6,
   "id": "728f5dd2-1d0d-4a52-ab49-46b903d892f9",
   "metadata": {
    "tags": []
   },
   "outputs": [
    {
     "data": {
      "text/html": [
       "<div>\n",
       "<style scoped>\n",
       "    .dataframe tbody tr th:only-of-type {\n",
       "        vertical-align: middle;\n",
       "    }\n",
       "\n",
       "    .dataframe tbody tr th {\n",
       "        vertical-align: top;\n",
       "    }\n",
       "\n",
       "    .dataframe thead th {\n",
       "        text-align: right;\n",
       "    }\n",
       "</style>\n",
       "<table border=\"1\" class=\"dataframe\">\n",
       "  <thead>\n",
       "    <tr style=\"text-align: right;\">\n",
       "      <th></th>\n",
       "      <th>alt</th>\n",
       "      <th>hbver</th>\n",
       "      <th>hematokrit</th>\n",
       "      <th>hemoglobin</th>\n",
       "      <th>blood_group_0</th>\n",
       "      <th>blood_group_1</th>\n",
       "      <th>blood_group_2</th>\n",
       "      <th>blood_group_3</th>\n",
       "      <th>indicator</th>\n",
       "    </tr>\n",
       "    <tr>\n",
       "      <th>ssn</th>\n",
       "      <th></th>\n",
       "      <th></th>\n",
       "      <th></th>\n",
       "      <th></th>\n",
       "      <th></th>\n",
       "      <th></th>\n",
       "      <th></th>\n",
       "      <th></th>\n",
       "      <th></th>\n",
       "    </tr>\n",
       "  </thead>\n",
       "  <tbody>\n",
       "    <tr>\n",
       "      <th>142-57-9305</th>\n",
       "      <td>-2.337903</td>\n",
       "      <td>0.011563</td>\n",
       "      <td>0.423914</td>\n",
       "      <td>1.792224</td>\n",
       "      <td>0</td>\n",
       "      <td>1</td>\n",
       "      <td>0</td>\n",
       "      <td>1</td>\n",
       "      <td>1.0</td>\n",
       "    </tr>\n",
       "    <tr>\n",
       "      <th>451-19-8635</th>\n",
       "      <td>2.064601</td>\n",
       "      <td>-1.319763</td>\n",
       "      <td>-0.728357</td>\n",
       "      <td>0.925073</td>\n",
       "      <td>0</td>\n",
       "      <td>1</td>\n",
       "      <td>1</td>\n",
       "      <td>0</td>\n",
       "      <td>1.0</td>\n",
       "    </tr>\n",
       "    <tr>\n",
       "      <th>657-99-0971</th>\n",
       "      <td>-0.180898</td>\n",
       "      <td>0.738461</td>\n",
       "      <td>0.629021</td>\n",
       "      <td>-0.779083</td>\n",
       "      <td>0</td>\n",
       "      <td>1</td>\n",
       "      <td>0</td>\n",
       "      <td>0</td>\n",
       "      <td>1.0</td>\n",
       "    </tr>\n",
       "    <tr>\n",
       "      <th>152-76-7044</th>\n",
       "      <td>0.308358</td>\n",
       "      <td>2.053148</td>\n",
       "      <td>-1.036412</td>\n",
       "      <td>0.311321</td>\n",
       "      <td>0</td>\n",
       "      <td>1</td>\n",
       "      <td>0</td>\n",
       "      <td>0</td>\n",
       "      <td>0.0</td>\n",
       "    </tr>\n",
       "    <tr>\n",
       "      <th>163-46-3919</th>\n",
       "      <td>0.623893</td>\n",
       "      <td>1.669422</td>\n",
       "      <td>-0.059511</td>\n",
       "      <td>-0.495611</td>\n",
       "      <td>0</td>\n",
       "      <td>0</td>\n",
       "      <td>1</td>\n",
       "      <td>1</td>\n",
       "      <td>1.0</td>\n",
       "    </tr>\n",
       "    <tr>\n",
       "      <th>...</th>\n",
       "      <td>...</td>\n",
       "      <td>...</td>\n",
       "      <td>...</td>\n",
       "      <td>...</td>\n",
       "      <td>...</td>\n",
       "      <td>...</td>\n",
       "      <td>...</td>\n",
       "      <td>...</td>\n",
       "      <td>...</td>\n",
       "    </tr>\n",
       "    <tr>\n",
       "      <th>428-29-5802</th>\n",
       "      <td>0.144350</td>\n",
       "      <td>-0.692957</td>\n",
       "      <td>-0.609748</td>\n",
       "      <td>1.013546</td>\n",
       "      <td>0</td>\n",
       "      <td>1</td>\n",
       "      <td>1</td>\n",
       "      <td>0</td>\n",
       "      <td>0.0</td>\n",
       "    </tr>\n",
       "    <tr>\n",
       "      <th>632-59-2895</th>\n",
       "      <td>-2.200330</td>\n",
       "      <td>0.631409</td>\n",
       "      <td>1.067476</td>\n",
       "      <td>-1.865162</td>\n",
       "      <td>0</td>\n",
       "      <td>1</td>\n",
       "      <td>0</td>\n",
       "      <td>0</td>\n",
       "      <td>0.0</td>\n",
       "    </tr>\n",
       "    <tr>\n",
       "      <th>326-55-6791</th>\n",
       "      <td>-1.302864</td>\n",
       "      <td>-1.309283</td>\n",
       "      <td>-0.396730</td>\n",
       "      <td>0.275903</td>\n",
       "      <td>0</td>\n",
       "      <td>1</td>\n",
       "      <td>0</td>\n",
       "      <td>0</td>\n",
       "      <td>1.0</td>\n",
       "    </tr>\n",
       "    <tr>\n",
       "      <th>672-06-8547</th>\n",
       "      <td>-1.021604</td>\n",
       "      <td>2.011901</td>\n",
       "      <td>0.038002</td>\n",
       "      <td>-1.145405</td>\n",
       "      <td>1</td>\n",
       "      <td>0</td>\n",
       "      <td>0</td>\n",
       "      <td>0</td>\n",
       "      <td>1.0</td>\n",
       "    </tr>\n",
       "    <tr>\n",
       "      <th>577-07-8163</th>\n",
       "      <td>0.362413</td>\n",
       "      <td>-0.248291</td>\n",
       "      <td>0.879962</td>\n",
       "      <td>-2.011535</td>\n",
       "      <td>0</td>\n",
       "      <td>1</td>\n",
       "      <td>0</td>\n",
       "      <td>1</td>\n",
       "      <td>0.0</td>\n",
       "    </tr>\n",
       "  </tbody>\n",
       "</table>\n",
       "<p>2143 rows × 9 columns</p>\n",
       "</div>"
      ],
      "text/plain": [
       "                  alt     hbver  hematokrit  hemoglobin  blood_group_0  \\\n",
       "ssn                                                                      \n",
       "142-57-9305 -2.337903  0.011563    0.423914    1.792224              0   \n",
       "451-19-8635  2.064601 -1.319763   -0.728357    0.925073              0   \n",
       "657-99-0971 -0.180898  0.738461    0.629021   -0.779083              0   \n",
       "152-76-7044  0.308358  2.053148   -1.036412    0.311321              0   \n",
       "163-46-3919  0.623893  1.669422   -0.059511   -0.495611              0   \n",
       "...               ...       ...         ...         ...            ...   \n",
       "428-29-5802  0.144350 -0.692957   -0.609748    1.013546              0   \n",
       "632-59-2895 -2.200330  0.631409    1.067476   -1.865162              0   \n",
       "326-55-6791 -1.302864 -1.309283   -0.396730    0.275903              0   \n",
       "672-06-8547 -1.021604  2.011901    0.038002   -1.145405              1   \n",
       "577-07-8163  0.362413 -0.248291    0.879962   -2.011535              0   \n",
       "\n",
       "             blood_group_1  blood_group_2  blood_group_3  indicator  \n",
       "ssn                                                                  \n",
       "142-57-9305              1              0              1        1.0  \n",
       "451-19-8635              1              1              0        1.0  \n",
       "657-99-0971              1              0              0        1.0  \n",
       "152-76-7044              1              0              0        0.0  \n",
       "163-46-3919              0              1              1        1.0  \n",
       "...                    ...            ...            ...        ...  \n",
       "428-29-5802              1              1              0        0.0  \n",
       "632-59-2895              1              0              0        0.0  \n",
       "326-55-6791              1              0              0        1.0  \n",
       "672-06-8547              0              0              0        1.0  \n",
       "577-07-8163              1              0              1        0.0  \n",
       "\n",
       "[2143 rows x 9 columns]"
      ]
     },
     "execution_count": 6,
     "metadata": {},
     "output_type": "execute_result"
    }
   ],
   "source": [
    "training_data = pd.read_csv(r\"163/vystupny_subor_faza2.csv\", sep=',', index_col=0)\n",
    "training_data"
   ]
  },
  {
   "cell_type": "code",
   "execution_count": 7,
   "id": "f9d5f157",
   "metadata": {},
   "outputs": [
    {
     "data": {
      "text/html": [
       "<div>\n",
       "<style scoped>\n",
       "    .dataframe tbody tr th:only-of-type {\n",
       "        vertical-align: middle;\n",
       "    }\n",
       "\n",
       "    .dataframe tbody tr th {\n",
       "        vertical-align: top;\n",
       "    }\n",
       "\n",
       "    .dataframe thead th {\n",
       "        text-align: right;\n",
       "    }\n",
       "</style>\n",
       "<table border=\"1\" class=\"dataframe\">\n",
       "  <thead>\n",
       "    <tr style=\"text-align: right;\">\n",
       "      <th></th>\n",
       "      <th>alt</th>\n",
       "      <th>hbver</th>\n",
       "      <th>hematokrit</th>\n",
       "      <th>hemoglobin</th>\n",
       "      <th>blood_group_0</th>\n",
       "      <th>blood_group_1</th>\n",
       "      <th>blood_group_2</th>\n",
       "      <th>blood_group_3</th>\n",
       "      <th>indicator</th>\n",
       "    </tr>\n",
       "    <tr>\n",
       "      <th>ssn</th>\n",
       "      <th></th>\n",
       "      <th></th>\n",
       "      <th></th>\n",
       "      <th></th>\n",
       "      <th></th>\n",
       "      <th></th>\n",
       "      <th></th>\n",
       "      <th></th>\n",
       "      <th></th>\n",
       "    </tr>\n",
       "  </thead>\n",
       "  <tbody>\n",
       "    <tr>\n",
       "      <th>541-41-1830</th>\n",
       "      <td>-0.332961</td>\n",
       "      <td>-0.232545</td>\n",
       "      <td>0.721073</td>\n",
       "      <td>0.292310</td>\n",
       "      <td>1</td>\n",
       "      <td>0</td>\n",
       "      <td>0</td>\n",
       "      <td>0</td>\n",
       "      <td>0.0</td>\n",
       "    </tr>\n",
       "    <tr>\n",
       "      <th>878-03-3374</th>\n",
       "      <td>-0.882099</td>\n",
       "      <td>-0.154242</td>\n",
       "      <td>-1.262765</td>\n",
       "      <td>0.897784</td>\n",
       "      <td>1</td>\n",
       "      <td>0</td>\n",
       "      <td>0</td>\n",
       "      <td>0</td>\n",
       "      <td>0.0</td>\n",
       "    </tr>\n",
       "    <tr>\n",
       "      <th>361-64-5990</th>\n",
       "      <td>0.070131</td>\n",
       "      <td>0.761426</td>\n",
       "      <td>0.429344</td>\n",
       "      <td>0.499255</td>\n",
       "      <td>0</td>\n",
       "      <td>1</td>\n",
       "      <td>1</td>\n",
       "      <td>0</td>\n",
       "      <td>1.0</td>\n",
       "    </tr>\n",
       "    <tr>\n",
       "      <th>606-95-8130</th>\n",
       "      <td>-0.237267</td>\n",
       "      <td>-0.012340</td>\n",
       "      <td>0.732314</td>\n",
       "      <td>-0.478227</td>\n",
       "      <td>0</td>\n",
       "      <td>0</td>\n",
       "      <td>0</td>\n",
       "      <td>1</td>\n",
       "      <td>0.0</td>\n",
       "    </tr>\n",
       "    <tr>\n",
       "      <th>719-26-2815</th>\n",
       "      <td>0.421176</td>\n",
       "      <td>0.843501</td>\n",
       "      <td>0.640011</td>\n",
       "      <td>0.117417</td>\n",
       "      <td>0</td>\n",
       "      <td>0</td>\n",
       "      <td>1</td>\n",
       "      <td>1</td>\n",
       "      <td>1.0</td>\n",
       "    </tr>\n",
       "    <tr>\n",
       "      <th>...</th>\n",
       "      <td>...</td>\n",
       "      <td>...</td>\n",
       "      <td>...</td>\n",
       "      <td>...</td>\n",
       "      <td>...</td>\n",
       "      <td>...</td>\n",
       "      <td>...</td>\n",
       "      <td>...</td>\n",
       "      <td>...</td>\n",
       "    </tr>\n",
       "    <tr>\n",
       "      <th>516-38-3288</th>\n",
       "      <td>-1.064675</td>\n",
       "      <td>-0.784496</td>\n",
       "      <td>-0.551049</td>\n",
       "      <td>-1.367680</td>\n",
       "      <td>0</td>\n",
       "      <td>1</td>\n",
       "      <td>1</td>\n",
       "      <td>0</td>\n",
       "      <td>1.0</td>\n",
       "    </tr>\n",
       "    <tr>\n",
       "      <th>236-65-6676</th>\n",
       "      <td>-0.090070</td>\n",
       "      <td>0.459898</td>\n",
       "      <td>-0.430227</td>\n",
       "      <td>-0.001574</td>\n",
       "      <td>0</td>\n",
       "      <td>0</td>\n",
       "      <td>1</td>\n",
       "      <td>0</td>\n",
       "      <td>1.0</td>\n",
       "    </tr>\n",
       "    <tr>\n",
       "      <th>648-21-4418</th>\n",
       "      <td>-0.035652</td>\n",
       "      <td>0.101854</td>\n",
       "      <td>0.921245</td>\n",
       "      <td>0.596117</td>\n",
       "      <td>1</td>\n",
       "      <td>0</td>\n",
       "      <td>0</td>\n",
       "      <td>0</td>\n",
       "      <td>1.0</td>\n",
       "    </tr>\n",
       "    <tr>\n",
       "      <th>206-20-5852</th>\n",
       "      <td>-1.250706</td>\n",
       "      <td>-1.297470</td>\n",
       "      <td>-0.453116</td>\n",
       "      <td>0.149333</td>\n",
       "      <td>1</td>\n",
       "      <td>0</td>\n",
       "      <td>0</td>\n",
       "      <td>0</td>\n",
       "      <td>1.0</td>\n",
       "    </tr>\n",
       "    <tr>\n",
       "      <th>554-16-3236</th>\n",
       "      <td>0.383579</td>\n",
       "      <td>1.086212</td>\n",
       "      <td>0.439970</td>\n",
       "      <td>-0.327140</td>\n",
       "      <td>0</td>\n",
       "      <td>0</td>\n",
       "      <td>1</td>\n",
       "      <td>0</td>\n",
       "      <td>1.0</td>\n",
       "    </tr>\n",
       "  </tbody>\n",
       "</table>\n",
       "<p>919 rows × 9 columns</p>\n",
       "</div>"
      ],
      "text/plain": [
       "                  alt     hbver  hematokrit  hemoglobin  blood_group_0  \\\n",
       "ssn                                                                      \n",
       "541-41-1830 -0.332961 -0.232545    0.721073    0.292310              1   \n",
       "878-03-3374 -0.882099 -0.154242   -1.262765    0.897784              1   \n",
       "361-64-5990  0.070131  0.761426    0.429344    0.499255              0   \n",
       "606-95-8130 -0.237267 -0.012340    0.732314   -0.478227              0   \n",
       "719-26-2815  0.421176  0.843501    0.640011    0.117417              0   \n",
       "...               ...       ...         ...         ...            ...   \n",
       "516-38-3288 -1.064675 -0.784496   -0.551049   -1.367680              0   \n",
       "236-65-6676 -0.090070  0.459898   -0.430227   -0.001574              0   \n",
       "648-21-4418 -0.035652  0.101854    0.921245    0.596117              1   \n",
       "206-20-5852 -1.250706 -1.297470   -0.453116    0.149333              1   \n",
       "554-16-3236  0.383579  1.086212    0.439970   -0.327140              0   \n",
       "\n",
       "             blood_group_1  blood_group_2  blood_group_3  indicator  \n",
       "ssn                                                                  \n",
       "541-41-1830              0              0              0        0.0  \n",
       "878-03-3374              0              0              0        0.0  \n",
       "361-64-5990              1              1              0        1.0  \n",
       "606-95-8130              0              0              1        0.0  \n",
       "719-26-2815              0              1              1        1.0  \n",
       "...                    ...            ...            ...        ...  \n",
       "516-38-3288              1              1              0        1.0  \n",
       "236-65-6676              0              1              0        1.0  \n",
       "648-21-4418              0              0              0        1.0  \n",
       "206-20-5852              0              0              0        1.0  \n",
       "554-16-3236              0              1              0        1.0  \n",
       "\n",
       "[919 rows x 9 columns]"
      ]
     },
     "execution_count": 7,
     "metadata": {},
     "output_type": "execute_result"
    }
   ],
   "source": [
    "testing_data = pd.read_csv(\"163/testing_data.csv\", sep=',', index_col=0)\n",
    "testing_data"
   ]
  },
  {
   "cell_type": "markdown",
   "id": "592b6871",
   "metadata": {},
   "source": [
    "Keďže nám vyšlo, že najvyššiu koreláciu s premennou indicator má hematokrit, zobrazíme si graf, aby sme videli, aká je hraničná hodnota pre chorých a zdravých ľudí. Podľa grafu to je 0"
   ]
  },
  {
   "cell_type": "code",
   "execution_count": 8,
   "id": "3d46cc10",
   "metadata": {},
   "outputs": [
    {
     "name": "stderr",
     "output_type": "stream",
     "text": [
      "D:\\IAU_projekt\\env_name\\lib\\site-packages\\seaborn\\distributions.py:967: MatplotlibDeprecationWarning: Case-insensitive properties were deprecated in 3.3 and support will be removed two minor releases later\n",
      "  scout = self.ax.fill_between([], [], **plot_kws)\n",
      "D:\\IAU_projekt\\env_name\\lib\\site-packages\\seaborn\\distributions.py:1015: MatplotlibDeprecationWarning: Case-insensitive properties were deprecated in 3.3 and support will be removed two minor releases later\n",
      "  artist = ax.fill_between(\n",
      "D:\\IAU_projekt\\env_name\\lib\\site-packages\\seaborn\\distributions.py:967: MatplotlibDeprecationWarning: Case-insensitive properties were deprecated in 3.3 and support will be removed two minor releases later\n",
      "  scout = self.ax.fill_between([], [], **plot_kws)\n",
      "D:\\IAU_projekt\\env_name\\lib\\site-packages\\seaborn\\distributions.py:1015: MatplotlibDeprecationWarning: Case-insensitive properties were deprecated in 3.3 and support will be removed two minor releases later\n",
      "  artist = ax.fill_between(\n"
     ]
    },
    {
     "data": {
      "text/plain": [
       "<AxesSubplot:xlabel='hematokrit', ylabel='Density'>"
      ]
     },
     "execution_count": 8,
     "metadata": {},
     "output_type": "execute_result"
    },
    {
     "data": {
      "image/png": "[encoded data removed]",
      "text/plain": [
       "<Figure size 648x432 with 1 Axes>"
      ]
     },
     "metadata": {
      "needs_background": "light"
     },
     "output_type": "display_data"
    }
   ],
   "source": [
    "sns.kdeplot(training_data.loc[(training_data['indicator'] == 1.0), 'hematokrit'],\n",
    "            color='r', shade=True, Label='chory')\n",
    "  \n",
    "sns.kdeplot(training_data.loc[(training_data['indicator'] == 0.0), 'hematokrit'],\n",
    "            color='b', shade=True, Label='zdravy')"
   ]
  },
  {
   "cell_type": "markdown",
   "id": "7e127d12",
   "metadata": {},
   "source": [
    "**1R implementácia**\n",
    "\n",
    "Na základe hodnoty hematokritu prepíšeme indikátor na 1.0 (ak je hematokrit menší ako 0) alebo na 0.0"
   ]
  },
  {
   "cell_type": "code",
   "execution_count": 9,
   "id": "e3c77e5a",
   "metadata": {},
   "outputs": [],
   "source": [
    "def singleRule(dataset):\n",
    "    vysledok = pd.Series()\n",
    "    pocet = 0\n",
    "    for i, riadok in dataset.iterrows():\n",
    "        if (riadok[\"indicator\"] in [1.0, 0.0]):\n",
    "            if (riadok[\"hematokrit\"] < 0):\n",
    "                vysledok = vysledok.append(pd.Series([1.0])) \n",
    "            elif (riadok[\"hematokrit\"] >= 0):\n",
    "                vysledok = vysledok.append(pd.Series([0.0])) \n",
    "    return vysledok"
   ]
  },
  {
   "cell_type": "markdown",
   "id": "40d9cf0b",
   "metadata": {},
   "source": [
    "Do povodny_indikator uložím indikátory z testovacieho datasetu. Potom testovacie dáta pošlem do funkcie, ktorá prepíše\n",
    "indikátory na základe toho, či je hematokrit väčší alebo menší ako 0. Ak je >=0, pacient by mal byť zdravý."
   ]
  },
  {
   "cell_type": "code",
   "execution_count": 10,
   "id": "90bcc675",
   "metadata": {
    "scrolled": true
   },
   "outputs": [
    {
     "name": "stderr",
     "output_type": "stream",
     "text": [
      "C:\\Users\\hanko\\AppData\\Local\\Temp/ipykernel_47572/4086370876.py:2: DeprecationWarning: The default dtype for empty Series will be 'object' instead of 'float64' in a future version. Specify a dtype explicitly to silence this warning.\n",
      "  vysledok = pd.Series()\n"
     ]
    }
   ],
   "source": [
    "spravne = testing_data[\"indicator\"].dropna()\n",
    "predikcie = singleRule(testing_data)\n"
   ]
  },
  {
   "cell_type": "markdown",
   "id": "96c7ff8c",
   "metadata": {},
   "source": [
    "Pomocou accuracy, precision a recall si vypíšeme úspešnosť nášho 1R"
   ]
  },
  {
   "cell_type": "code",
   "execution_count": 11,
   "id": "cb7635a4",
   "metadata": {},
   "outputs": [
    {
     "name": "stdout",
     "output_type": "stream",
     "text": [
      "0.6343852013057671\n",
      "0.6515610059284758\n",
      "0.6679140844324382\n",
      "              precision    recall  f1-score   support\n",
      "\n",
      "         0.0       0.47      0.77      0.59       310\n",
      "         1.0       0.83      0.56      0.67       609\n",
      "\n",
      "    accuracy                           0.63       919\n",
      "   macro avg       0.65      0.67      0.63       919\n",
      "weighted avg       0.71      0.63      0.64       919\n",
      "\n"
     ]
    }
   ],
   "source": [
    "print(accuracy_score(spravne, predikcie))\n",
    "print(precision_score(spravne, predikcie, average=\"macro\"))\n",
    "print(recall_score(spravne, predikcie, average=\"macro\"))\n",
    "print(classification_report(spravne,predikcie))\n"
   ]
  },
  {
   "cell_type": "code",
   "execution_count": 12,
   "id": "4bc90d25-e116-4086-8cab-b9a854bf20f0",
   "metadata": {},
   "outputs": [],
   "source": [
    "X_training = training_data.drop('indicator', axis = 'columns')\n",
    "y_training = training_data['indicator']\n",
    "X_testing = testing_data.drop('indicator', axis = 'columns')\n",
    "y_testing = testing_data['indicator']\n",
    "feature_names = list(training_data.dtypes.index.values)\n",
    "\n",
    "#vytvorime klasifikator a natrenujeme ho s trenovacimi datami\n",
    "clf = tree.DecisionTreeClassifier()\n",
    "clf = clf.fit(X_training, y_training)"
   ]
  },
  {
   "cell_type": "code",
   "execution_count": 13,
   "id": "9aed7b59-3406-4c24-a4db-f2c70bc018cb",
   "metadata": {},
   "outputs": [
    {
     "data": {
      "text/plain": [
       "[Text(637.3706896551724, 489.24, 'hemoglobin <= -0.899\\ngini = 0.455\\nsamples = 2143\\nvalue = [750, 1393]'),\n",
       " Text(264.5689655172414, 380.52000000000004, 'hematokrit <= -0.437\\ngini = 0.413\\nsamples = 394\\nvalue = [279, 115]'),\n",
       " Text(96.20689655172414, 271.8, 'hematokrit <= -0.795\\ngini = 0.111\\nsamples = 51\\nvalue = [3, 48]'),\n",
       " Text(48.10344827586207, 163.08000000000004, 'gini = 0.0\\nsamples = 37\\nvalue = [0, 37]'),\n",
       " Text(144.31034482758622, 163.08000000000004, 'hematokrit <= -0.765\\ngini = 0.337\\nsamples = 14\\nvalue = [3, 11]'),\n",
       " Text(96.20689655172414, 54.360000000000014, '\\n  (...)  \\n'),\n",
       " Text(192.41379310344828, 54.360000000000014, '\\n  (...)  \\n'),\n",
       " Text(432.93103448275866, 271.8, 'hbver <= 1.403\\ngini = 0.314\\nsamples = 343\\nvalue = [276, 67]'),\n",
       " Text(336.7241379310345, 163.08000000000004, 'hematokrit <= 2.52\\ngini = 0.258\\nsamples = 296\\nvalue = [251, 45]'),\n",
       " Text(288.62068965517244, 54.360000000000014, '\\n  (...)  \\n'),\n",
       " Text(384.82758620689657, 54.360000000000014, '\\n  (...)  \\n'),\n",
       " Text(529.1379310344828, 163.08000000000004, 'hematokrit <= 1.075\\ngini = 0.498\\nsamples = 47\\nvalue = [25, 22]'),\n",
       " Text(481.0344827586207, 54.360000000000014, '\\n  (...)  \\n'),\n",
       " Text(577.2413793103449, 54.360000000000014, '\\n  (...)  \\n'),\n",
       " Text(1010.1724137931035, 380.52000000000004, 'hematokrit <= -0.68\\ngini = 0.394\\nsamples = 1749\\nvalue = [471, 1278]'),\n",
       " Text(817.7586206896552, 271.8, 'hbver <= -0.479\\ngini = 0.191\\nsamples = 589\\nvalue = [63, 526]'),\n",
       " Text(721.551724137931, 163.08000000000004, 'hematokrit <= -1.326\\ngini = 0.091\\nsamples = 377\\nvalue = [18, 359]'),\n",
       " Text(673.448275862069, 54.360000000000014, '\\n  (...)  \\n'),\n",
       " Text(769.6551724137931, 54.360000000000014, '\\n  (...)  \\n'),\n",
       " Text(913.9655172413793, 163.08000000000004, 'hematokrit <= -1.023\\ngini = 0.334\\nsamples = 212\\nvalue = [45, 167]'),\n",
       " Text(865.8620689655173, 54.360000000000014, '\\n  (...)  \\n'),\n",
       " Text(962.0689655172414, 54.360000000000014, '\\n  (...)  \\n'),\n",
       " Text(1202.5862068965519, 271.8, 'hbver <= -0.269\\ngini = 0.456\\nsamples = 1160\\nvalue = [408, 752]'),\n",
       " Text(1106.3793103448277, 163.08000000000004, 'hematokrit <= -0.04\\ngini = 0.479\\nsamples = 411\\nvalue = [248, 163]'),\n",
       " Text(1058.2758620689656, 54.360000000000014, '\\n  (...)  \\n'),\n",
       " Text(1154.4827586206898, 54.360000000000014, '\\n  (...)  \\n'),\n",
       " Text(1298.7931034482758, 163.08000000000004, 'hemoglobin <= -0.421\\ngini = 0.336\\nsamples = 749\\nvalue = [160, 589]'),\n",
       " Text(1250.689655172414, 54.360000000000014, '\\n  (...)  \\n'),\n",
       " Text(1346.896551724138, 54.360000000000014, '\\n  (...)  \\n')]"
      ]
     },
     "execution_count": 13,
     "metadata": {},
     "output_type": "execute_result"
    },
    {
     "data": {
      "image/png": "[encoded data removed]",
      "text/plain": [
       "<Figure size 1800x720 with 1 Axes>"
      ]
     },
     "metadata": {
      "needs_background": "light"
     },
     "output_type": "display_data"
    }
   ],
   "source": [
    "#vizualizacia modelu len do hlbky 3, hlbsie je problem vizualizovat kvoli komlexnosti modelu\n",
    "fig = plt.figure(figsize=(25,10))\n",
    "tree.plot_tree(clf, max_depth = 3, filled = True, feature_names=feature_names, fontsize = 8)"
   ]
  },
  {
   "cell_type": "markdown",
   "id": "11c8ad8b-6fd7-411a-9f36-e24c78b07e48",
   "metadata": {},
   "source": [
    "## Porovnanie 1R a DecisionTreeClassfier\n",
    "Keď porovnáme náš implementovaný 1R klasifikátor s natrenovaným rozhodovacím stromom tak dôjdeme k záveru, že náš algoritmus zaostáva o viac ako 10%, čo nám potvrdzujú všetky pozorované metriky, accuracy, precision a recall. \n",
    "Tieto metriky vyhodnocujú úspešnosť na základe týchto formúl:\n",
    "$Accuracy = \\frac{TP+TN}{TP+FP+FN+TN}$\n",
    "$Precision = \\frac{TP}{TP+FP}$\n",
    "$Recall = \\frac{TP}{TP+FN}$"
   ]
  },
  {
   "cell_type": "code",
   "execution_count": 14,
   "id": "0b563815-4b0b-464b-b684-8ca507baef87",
   "metadata": {},
   "outputs": [
    {
     "name": "stdout",
     "output_type": "stream",
     "text": [
      "accuracy score je: 0.761697\n",
      "precision score je: 0.735033\n",
      "recall score je: 0.744176\n",
      "              precision    recall  f1-score   support\n",
      "\n",
      "         0.0       0.64      0.69      0.66       310\n",
      "         1.0       0.84      0.80      0.82       609\n",
      "\n",
      "    accuracy                           0.76       919\n",
      "   macro avg       0.74      0.74      0.74       919\n",
      "weighted avg       0.77      0.76      0.76       919\n",
      "\n"
     ]
    }
   ],
   "source": [
    "#vyskusame nas model na testovacich datach a pozrieme sa na uspesnost\n",
    "y_pred = clf.predict(X_testing)\n",
    "\n",
    "print(\"accuracy score je: %f\" % accuracy_score(y_testing, y_pred))\n",
    "print(\"precision score je: %f\" % precision_score(y_testing, y_pred, average=\"macro\"))\n",
    "print(\"recall score je: %f\" % recall_score(y_testing, y_pred, average=\"macro\"))\n",
    "print(classification_report(y_testing,y_pred))"
   ]
  },
  {
   "cell_type": "markdown",
   "id": "7b5defa6-0b52-4b4a-9750-966a43cf9a3f",
   "metadata": {},
   "source": [
    "## Trénovanie klasifikátora strojového učenia a hyperparameter tunning\n",
    "Najprv si vyextrahujeme názvy atribútov, ktoré rozdelíme na kategorické a numerické, aby sme si podľa nich mohli nastaviť pipeline. Potom si rozdelíme data na testovaciu a trénovaciu vzorku. Testovaciu vzorku použijeme až po experimentoch a hyperparameter tunningu. Experimenty vykonávame len na trénovacich dátach za asistencie K-fold cross validácie aby sme predišli pretrénovaniu. Ešte pred samotnými experimentami si nastavíme pipeline na metódy s ktorými si chceme predspracovať naše atribúty. Následne ak sme spokojní s natrénovaným modelom alebo už pomocou nastavovania hyperparametrov viac z neho nevieme vymačknuť, tak ho odtestujeme na testovacích dátach. \n"
   ]
  },
  {
   "cell_type": "code",
   "execution_count": 15,
   "id": "d90f4df3",
   "metadata": {},
   "outputs": [],
   "source": [
    "# v num_data sú nevyškálované numerické dáta bez outlierov\n",
    "num_data = pd.read_csv(\"163/numeric_data.csv\", sep=',', index_col=0)\n",
    "cat_data = pd.read_csv(\"163/categoric_data.csv\", sep=',', index_col=0)\n",
    "df = num_data.merge(cat_data, on='ssn')\n",
    "df = df.drop('job', axis='columns')"
   ]
  },
  {
   "cell_type": "code",
   "execution_count": 16,
   "id": "9936bdce",
   "metadata": {},
   "outputs": [],
   "source": [
    "#vyextrahujeme si numericke a kategoricke atributy aby sme si pre ne mohli neskor nastavit pipeline\n",
    "cat_cols = list(df.dtypes[df.dtypes == 'object'].index.values)\n",
    "num_cols = list(df.dtypes[df.dtypes != 'object'].index.values)\n",
    "num_cols.remove('indicator')\n",
    "\n",
    "for col in cat_cols:\n",
    "    df[col] = df[col].astype('category')\n",
    "\n",
    "X = df[df.columns.difference(['indicator'])]\n",
    "y = df['indicator']\n",
    "#rozdelime si data na trenovacie a tetovacie\n",
    "X_train, X_test, y_train, y_test = train_test_split(X, y, test_size=0.30, random_state=42)"
   ]
  },
  {
   "cell_type": "markdown",
   "id": "bf2e6ee5-02c5-44ea-a945-12b1e271df27",
   "metadata": {},
   "source": [
    "## Nastavenie hyperparametrov decision tree klasifikátoru \n",
    "\n",
    "**criterion** tento parameter meria kvalitu rozdelenia datasetu. Podporované hodnoty su string \"gini\" a \"entropy\". Štúdie hovoria že rozdiel medzi možnosťami tohto parametru nie sú preukázateľné na výkone, no v našm prípade sme zaznamenali lepšie výsledky s hodnotou entropy ktorá meria kvalitu rozdelenia logaritmickou funkciou preto môže byŤ výpoČet o čosi pomalší. \n",
    "### Gini: $Gini(E) = 1 - \\sum_{j=1}^c p_j^2$\n",
    "### Entropy: $H(E) = - \\sum_{j=1}^c p_j log{}{p_j}$\n",
    "\n",
    "**splitter** parameter je vlatne sposob akým sa budu rozdeľovať uzly v strome. String hodnotou tohto parametru je \"random\" alebo \"best\". Pri naŠích experimentoch sme sa zhodli na parametri hodnote \"best\" z dôvodu lešíeho výkonu o niekoľko stotín. Tento parameter používa random uniform function a na jej vstupe prijíma mean_feature_value max_feature_value a random_state, všetky tieto vstupne parametre su taktiež hyperparametramy celého klasifikátora.\n",
    "\n",
    "**max_depth** s týmto parametrom môžme bojovať s overfittingom alebo s underfittingom. Hodnotou tohto parametra je celočíselná hodnota alebo príznak None. Ak máme pocit že dochádza k overfittingu tak zredukujeme hodnotu tohto parametra, no ak dochádza k underfittingu tak naopak boostneme túto hodnotu.\n",
    "\n",
    "**min_samples_split** hovorí o minimapnom pocte vzoriek v uzle. Týmto parametrom vieme kontrolovaŤ taktiež over/underfitting, kde vysoké hodnoty môžu spôsobovaŤ underfitting. Niektoré štúdia tvrdia že ideálne hodnoty pre tento parameter sú medzi 1 až 40. Pri naších experimentoch sme došli k hodnote 26, pri ktorej sme generovali najlepšie výsledky.\n",
    "\n",
    "**min_samples_leaf** definuje minimálny počet vzoriek potrebných na uzle reprezentujúcom list stromu. Tým že na každom liste bude viac než jeden element viem takisto predísŤ overfittingu. Štúdia hovorí že tento parameter spolu s hyperparametrom **min_samples_split** majú najväčší vplyv na úspešnosť modelu, čo sa nám aj potvrdilo po experimentoch s týmito hyperparametrami, ktoré nám boostli úspešnosť približne o 5%. \n",
    "\n",
    "**max_features** hodnotami sú int, float, string (auto, sqrt, log2, None), ktoré hovoria o počte atribútov potrebných na najlepšie rozdelenie. Pri našom pozorovaní sme zistili, že čím zväčšujeme číslo tohto parametru tým máme aj lepšiu úspešnosť modelu. Najlepšie výsledky sme ale odpozorovali pre deafultnú hodnotu tohto parametru teda None.\n",
    "\n",
    "**random_state** požijeme celočíselnú hodnotu ak chcem určíť od akého základu sa odpichne generátor náhodných čísel s ktorým pracuje. Obľúbenou hodnotou pre tento parameter je 42, no po niekoľkých experimentoch s týmto parametrom sme ostali pri defaultnej hodnote, keďže nám generovala najväčší úspech modelu."
   ]
  },
  {
   "cell_type": "code",
   "execution_count": 17,
   "id": "baf4bc28",
   "metadata": {},
   "outputs": [],
   "source": [
    "X = df[df.columns.difference(['indicator'])]\n",
    "y = df['indicator']\n",
    "#rozdelíme si data na trenovacie a testovacie\n",
    "X_train, X_test, y_train, y_test = train_test_split(X, y, test_size=0.30, random_state=42)"
   ]
  },
  {
   "cell_type": "markdown",
   "id": "c2411d73",
   "metadata": {},
   "source": [
    "Pomocou GridSearch vyskúšame nájsť najvhodnejšie hyperparametre. Vyšlo nám, že máme použiť:\n",
    "- entropy\n",
    "- max_depth 6\n",
    "- min_samples_leaf 2\n",
    "- min_samples_split 26"
   ]
  },
  {
   "cell_type": "code",
   "execution_count": 22,
   "id": "529e1b1c",
   "metadata": {},
   "outputs": [
    {
     "name": "stdout",
     "output_type": "stream",
     "text": [
      "Fitting 5 folds for each of 57798 candidates, totalling 288990 fits\n"
     ]
    },
    {
     "name": "stderr",
     "output_type": "stream",
     "text": [
      "D:\\IAU_projekt\\env_name\\lib\\site-packages\\sklearn\\model_selection\\_validation.py:372: FitFailedWarning: \n",
      "7410 fits failed out of a total of 288990.\n",
      "The score on these train-test partitions for these parameters will be set to nan.\n",
      "If these failures are not expected, you can try to debug them by setting error_score='raise'.\n",
      "\n",
      "Below are more details about the failures:\n",
      "--------------------------------------------------------------------------------\n",
      "7410 fits failed with the following error:\n",
      "Traceback (most recent call last):\n",
      "  File \"D:\\IAU_projekt\\env_name\\lib\\site-packages\\sklearn\\model_selection\\_validation.py\", line 681, in _fit_and_score\n",
      "    estimator.fit(X_train, y_train, **fit_params)\n",
      "  File \"D:\\IAU_projekt\\env_name\\lib\\site-packages\\sklearn\\tree\\_classes.py\", line 937, in fit\n",
      "    super().fit(\n",
      "  File \"D:\\IAU_projekt\\env_name\\lib\\site-packages\\sklearn\\tree\\_classes.py\", line 250, in fit\n",
      "    raise ValueError(\n",
      "ValueError: min_samples_split must be an integer greater than 1 or a float in (0.0, 1.0]; got the integer 1\n",
      "\n",
      "  warnings.warn(some_fits_failed_message, FitFailedWarning)\n"
     ]
    },
    {
     "name": "stdout",
     "output_type": "stream",
     "text": [
      "GridSearchCV(cv=5, estimator=DecisionTreeClassifier(), n_jobs=-1,\n",
      "             param_grid={'criterion': ['gini', 'entropy'],\n",
      "                         'max_depth': range(1, 20),\n",
      "                         'min_samples_leaf': range(1, 40),\n",
      "                         'min_samples_split': range(1, 40)},\n",
      "             verbose=1)\n"
     ]
    },
    {
     "name": "stderr",
     "output_type": "stream",
     "text": [
      "D:\\IAU_projekt\\env_name\\lib\\site-packages\\sklearn\\model_selection\\_search.py:969: UserWarning: One or more of the test scores are non-finite: [       nan 0.68781452 0.68781452 ... 0.81150361 0.81150361 0.81150361]\n",
      "  warnings.warn(\n"
     ]
    }
   ],
   "source": [
    "criterion = ['gini', 'entropy']\n",
    "max_depth = range(1, 20)\n",
    "min_samples_split = range(1, 40) \n",
    "min_samples_leaf = range(1,40) \n",
    "\n",
    "hyper = dict(criterion = criterion, \n",
    "             max_depth = max_depth,  \n",
    "             min_samples_split = min_samples_split, \n",
    "             min_samples_leaf = min_samples_leaf\n",
    "            )\n",
    "\n",
    "gs = GridSearchCV(tree.DecisionTreeClassifier(), hyper, cv=5, verbose=1, n_jobs=-1)\n",
    "\n",
    "best = gs.fit(X_training, y_training)\n",
    "print(best)"
   ]
  },
  {
   "cell_type": "markdown",
   "id": "2ef16999",
   "metadata": {},
   "source": [
    "Najlepšie parametre podľa grid search sú nasledovné:"
   ]
  },
  {
   "cell_type": "code",
   "execution_count": 23,
   "id": "b3384e8a",
   "metadata": {},
   "outputs": [
    {
     "data": {
      "text/plain": [
       "{'criterion': 'entropy',\n",
       " 'max_depth': 6,\n",
       " 'min_samples_leaf': 2,\n",
       " 'min_samples_split': 26}"
      ]
     },
     "execution_count": 23,
     "metadata": {},
     "output_type": "execute_result"
    }
   ],
   "source": [
    "best.best_params_"
   ]
  },
  {
   "cell_type": "markdown",
   "id": "575d239a",
   "metadata": {},
   "source": [
    "## 4. Vyhodnotenie vplyvu zvolenej stratégie riešenia na klasifikáciu\n",
    "\n",
    "Vytvoríme si prvú pipeline"
   ]
  },
  {
   "cell_type": "code",
   "execution_count": 24,
   "id": "aa23966e-80fd-485a-9a74-7af1fef22db2",
   "metadata": {},
   "outputs": [],
   "source": [
    "numerical = Pipeline(steps=[\n",
    "    ('imputer', SimpleImputer(strategy='median')),\n",
    "    ('scaler', StandardScaler())])\n",
    "\n",
    "column_preprocessor = ColumnTransformer(\n",
    "    transformers=[\n",
    "        ('num', numerical, num_cols),\n",
    "        ('cat', OneHotEncoder(), cat_cols)])\n",
    "\n",
    "clf = Pipeline(steps=[('preprocessor', column_preprocessor),\n",
    "                      ('classifier', tree.DecisionTreeClassifier(criterion='entropy', splitter='best', max_depth=6, min_samples_split=26, min_samples_leaf=2, \n",
    "                                                                 min_weight_fraction_leaf=0, max_features=None, random_state=None))])"
   ]
  },
  {
   "cell_type": "code",
   "execution_count": 25,
   "id": "a7b7fd78",
   "metadata": {
    "tags": []
   },
   "outputs": [
    {
     "data": {
      "text/html": [
       "<style>#sk-e1d2e903-e4e9-4b96-a335-401fdce3a3c9 {color: black;background-color: white;}#sk-e1d2e903-e4e9-4b96-a335-401fdce3a3c9 pre{padding: 0;}#sk-e1d2e903-e4e9-4b96-a335-401fdce3a3c9 div.sk-toggleable {background-color: white;}#sk-e1d2e903-e4e9-4b96-a335-401fdce3a3c9 label.sk-toggleable__label {cursor: pointer;display: block;width: 100%;margin-bottom: 0;padding: 0.3em;box-sizing: border-box;text-align: center;}#sk-e1d2e903-e4e9-4b96-a335-401fdce3a3c9 div.sk-toggleable__content {max-height: 0;max-width: 0;overflow: hidden;text-align: left;background-color: #f0f8ff;}#sk-e1d2e903-e4e9-4b96-a335-401fdce3a3c9 div.sk-toggleable__content pre {margin: 0.2em;color: black;border-radius: 0.25em;background-color: #f0f8ff;}#sk-e1d2e903-e4e9-4b96-a335-401fdce3a3c9 input.sk-toggleable__control:checked~div.sk-toggleable__content {max-height: 200px;max-width: 100%;overflow: auto;}#sk-e1d2e903-e4e9-4b96-a335-401fdce3a3c9 div.sk-estimator input.sk-toggleable__control:checked~label.sk-toggleable__label {background-color: #d4ebff;}#sk-e1d2e903-e4e9-4b96-a335-401fdce3a3c9 div.sk-label input.sk-toggleable__control:checked~label.sk-toggleable__label {background-color: #d4ebff;}#sk-e1d2e903-e4e9-4b96-a335-401fdce3a3c9 input.sk-hidden--visually {border: 0;clip: rect(1px 1px 1px 1px);clip: rect(1px, 1px, 1px, 1px);height: 1px;margin: -1px;overflow: hidden;padding: 0;position: absolute;width: 1px;}#sk-e1d2e903-e4e9-4b96-a335-401fdce3a3c9 div.sk-estimator {font-family: monospace;background-color: #f0f8ff;border: 1px dotted black;border-radius: 0.25em;box-sizing: border-box;margin-bottom: 0.5em;}#sk-e1d2e903-e4e9-4b96-a335-401fdce3a3c9 div.sk-estimator:hover {background-color: #d4ebff;}#sk-e1d2e903-e4e9-4b96-a335-401fdce3a3c9 div.sk-parallel-item::after {content: \"\";width: 100%;border-bottom: 1px solid gray;flex-grow: 1;}#sk-e1d2e903-e4e9-4b96-a335-401fdce3a3c9 div.sk-label:hover label.sk-toggleable__label {background-color: #d4ebff;}#sk-e1d2e903-e4e9-4b96-a335-401fdce3a3c9 div.sk-serial::before {content: \"\";position: absolute;border-left: 1px solid gray;box-sizing: border-box;top: 2em;bottom: 0;left: 50%;}#sk-e1d2e903-e4e9-4b96-a335-401fdce3a3c9 div.sk-serial {display: flex;flex-direction: column;align-items: center;background-color: white;padding-right: 0.2em;padding-left: 0.2em;}#sk-e1d2e903-e4e9-4b96-a335-401fdce3a3c9 div.sk-item {z-index: 1;}#sk-e1d2e903-e4e9-4b96-a335-401fdce3a3c9 div.sk-parallel {display: flex;align-items: stretch;justify-content: center;background-color: white;}#sk-e1d2e903-e4e9-4b96-a335-401fdce3a3c9 div.sk-parallel::before {content: \"\";position: absolute;border-left: 1px solid gray;box-sizing: border-box;top: 2em;bottom: 0;left: 50%;}#sk-e1d2e903-e4e9-4b96-a335-401fdce3a3c9 div.sk-parallel-item {display: flex;flex-direction: column;position: relative;background-color: white;}#sk-e1d2e903-e4e9-4b96-a335-401fdce3a3c9 div.sk-parallel-item:first-child::after {align-self: flex-end;width: 50%;}#sk-e1d2e903-e4e9-4b96-a335-401fdce3a3c9 div.sk-parallel-item:last-child::after {align-self: flex-start;width: 50%;}#sk-e1d2e903-e4e9-4b96-a335-401fdce3a3c9 div.sk-parallel-item:only-child::after {width: 0;}#sk-e1d2e903-e4e9-4b96-a335-401fdce3a3c9 div.sk-dashed-wrapped {border: 1px dashed gray;margin: 0 0.4em 0.5em 0.4em;box-sizing: border-box;padding-bottom: 0.4em;background-color: white;position: relative;}#sk-e1d2e903-e4e9-4b96-a335-401fdce3a3c9 div.sk-label label {font-family: monospace;font-weight: bold;background-color: white;display: inline-block;line-height: 1.2em;}#sk-e1d2e903-e4e9-4b96-a335-401fdce3a3c9 div.sk-label-container {position: relative;z-index: 2;text-align: center;}#sk-e1d2e903-e4e9-4b96-a335-401fdce3a3c9 div.sk-container {display: inline-block;position: relative;}</style><div id=\"sk-e1d2e903-e4e9-4b96-a335-401fdce3a3c9\" class\"sk-top-container\"><div class=\"sk-container\"><div class=\"sk-item sk-dashed-wrapped\"><div class=\"sk-label-container\"><div class=\"sk-label sk-toggleable\"><input class=\"sk-toggleable__control sk-hidden--visually\" id=\"abe7c0e9-60f8-4296-b5fb-705939d5ea13\" type=\"checkbox\" ><label class=\"sk-toggleable__label\" for=\"abe7c0e9-60f8-4296-b5fb-705939d5ea13\">Pipeline</label><div class=\"sk-toggleable__content\"><pre>Pipeline(steps=[('preprocessor',\n",
       "                 ColumnTransformer(transformers=[('num',\n",
       "                                                  Pipeline(steps=[('imputer',\n",
       "                                                                   SimpleImputer(strategy='median')),\n",
       "                                                                  ('scaler',\n",
       "                                                                   StandardScaler())]),\n",
       "                                                  ['leukocyty', 'hemoglobin',\n",
       "                                                   'trombocyty', 'alt', 'ast',\n",
       "                                                   'hematokrit', 'hbver',\n",
       "                                                   'etytr', 'er-cv',\n",
       "                                                   'erytrocyty', 'smoker',\n",
       "                                                   'sex']),\n",
       "                                                 ('cat', OneHotEncoder(),\n",
       "                                                  ['relationship',\n",
       "                                                   'blood_group', 'race'])])),\n",
       "                ('classifier',\n",
       "                 DecisionTreeClassifier(criterion='entropy', max_depth=6,\n",
       "                                        min_samples_leaf=2,\n",
       "                                        min_samples_split=26,\n",
       "                                        min_weight_fraction_leaf=0))])</pre></div></div></div><div class=\"sk-serial\"><div class=\"sk-item sk-dashed-wrapped\"><div class=\"sk-label-container\"><div class=\"sk-label sk-toggleable\"><input class=\"sk-toggleable__control sk-hidden--visually\" id=\"0d288a02-bc56-44b0-b2e1-c286e64adaf7\" type=\"checkbox\" ><label class=\"sk-toggleable__label\" for=\"0d288a02-bc56-44b0-b2e1-c286e64adaf7\">preprocessor: ColumnTransformer</label><div class=\"sk-toggleable__content\"><pre>ColumnTransformer(transformers=[('num',\n",
       "                                 Pipeline(steps=[('imputer',\n",
       "                                                  SimpleImputer(strategy='median')),\n",
       "                                                 ('scaler', StandardScaler())]),\n",
       "                                 ['leukocyty', 'hemoglobin', 'trombocyty',\n",
       "                                  'alt', 'ast', 'hematokrit', 'hbver', 'etytr',\n",
       "                                  'er-cv', 'erytrocyty', 'smoker', 'sex']),\n",
       "                                ('cat', OneHotEncoder(),\n",
       "                                 ['relationship', 'blood_group', 'race'])])</pre></div></div></div><div class=\"sk-parallel\"><div class=\"sk-parallel-item\"><div class=\"sk-item\"><div class=\"sk-label-container\"><div class=\"sk-label sk-toggleable\"><input class=\"sk-toggleable__control sk-hidden--visually\" id=\"8733444c-b0e9-432d-adbc-4a51ccbc74b8\" type=\"checkbox\" ><label class=\"sk-toggleable__label\" for=\"8733444c-b0e9-432d-adbc-4a51ccbc74b8\">num</label><div class=\"sk-toggleable__content\"><pre>['leukocyty', 'hemoglobin', 'trombocyty', 'alt', 'ast', 'hematokrit', 'hbver', 'etytr', 'er-cv', 'erytrocyty', 'smoker', 'sex']</pre></div></div></div><div class=\"sk-serial\"><div class=\"sk-item\"><div class=\"sk-serial\"><div class=\"sk-item\"><div class=\"sk-estimator sk-toggleable\"><input class=\"sk-toggleable__control sk-hidden--visually\" id=\"7ac8b3ec-4cf6-4222-92fe-39a297c7bf89\" type=\"checkbox\" ><label class=\"sk-toggleable__label\" for=\"7ac8b3ec-4cf6-4222-92fe-39a297c7bf89\">SimpleImputer</label><div class=\"sk-toggleable__content\"><pre>SimpleImputer(strategy='median')</pre></div></div></div><div class=\"sk-item\"><div class=\"sk-estimator sk-toggleable\"><input class=\"sk-toggleable__control sk-hidden--visually\" id=\"f471e13b-0bbf-4d96-b1c1-127926b4bcef\" type=\"checkbox\" ><label class=\"sk-toggleable__label\" for=\"f471e13b-0bbf-4d96-b1c1-127926b4bcef\">StandardScaler</label><div class=\"sk-toggleable__content\"><pre>StandardScaler()</pre></div></div></div></div></div></div></div></div><div class=\"sk-parallel-item\"><div class=\"sk-item\"><div class=\"sk-label-container\"><div class=\"sk-label sk-toggleable\"><input class=\"sk-toggleable__control sk-hidden--visually\" id=\"4956ebcc-6714-463c-ac51-c3b7d14ba6d7\" type=\"checkbox\" ><label class=\"sk-toggleable__label\" for=\"4956ebcc-6714-463c-ac51-c3b7d14ba6d7\">cat</label><div class=\"sk-toggleable__content\"><pre>['relationship', 'blood_group', 'race']</pre></div></div></div><div class=\"sk-serial\"><div class=\"sk-item\"><div class=\"sk-estimator sk-toggleable\"><input class=\"sk-toggleable__control sk-hidden--visually\" id=\"e93cdb05-8049-4953-938d-65f051e65918\" type=\"checkbox\" ><label class=\"sk-toggleable__label\" for=\"e93cdb05-8049-4953-938d-65f051e65918\">OneHotEncoder</label><div class=\"sk-toggleable__content\"><pre>OneHotEncoder()</pre></div></div></div></div></div></div></div></div><div class=\"sk-item\"><div class=\"sk-estimator sk-toggleable\"><input class=\"sk-toggleable__control sk-hidden--visually\" id=\"d3e8c0d0-ae06-4044-98c9-c718f9dfec7d\" type=\"checkbox\" ><label class=\"sk-toggleable__label\" for=\"d3e8c0d0-ae06-4044-98c9-c718f9dfec7d\">DecisionTreeClassifier</label><div class=\"sk-toggleable__content\"><pre>DecisionTreeClassifier(criterion='entropy', max_depth=6, min_samples_leaf=2,\n",
       "                       min_samples_split=26, min_weight_fraction_leaf=0)</pre></div></div></div></div></div></div></div>"
      ],
      "text/plain": [
       "Pipeline(steps=[('preprocessor',\n",
       "                 ColumnTransformer(transformers=[('num',\n",
       "                                                  Pipeline(steps=[('imputer',\n",
       "                                                                   SimpleImputer(strategy='median')),\n",
       "                                                                  ('scaler',\n",
       "                                                                   StandardScaler())]),\n",
       "                                                  ['leukocyty', 'hemoglobin',\n",
       "                                                   'trombocyty', 'alt', 'ast',\n",
       "                                                   'hematokrit', 'hbver',\n",
       "                                                   'etytr', 'er-cv',\n",
       "                                                   'erytrocyty', 'smoker',\n",
       "                                                   'sex']),\n",
       "                                                 ('cat', OneHotEncoder(),\n",
       "                                                  ['relationship',\n",
       "                                                   'blood_group', 'race'])])),\n",
       "                ('classifier',\n",
       "                 DecisionTreeClassifier(criterion='entropy', max_depth=6,\n",
       "                                        min_samples_leaf=2,\n",
       "                                        min_samples_split=26,\n",
       "                                        min_weight_fraction_leaf=0))])"
      ]
     },
     "execution_count": 25,
     "metadata": {},
     "output_type": "execute_result"
    }
   ],
   "source": [
    "set_config(display='diagram')\n",
    "clf"
   ]
  },
  {
   "cell_type": "code",
   "execution_count": 26,
   "id": "c1096add-9fc6-4166-8cef-c8f70e0e8bd7",
   "metadata": {},
   "outputs": [],
   "source": [
    "clf_model = clf.fit(X_train, y_train)"
   ]
  },
  {
   "cell_type": "code",
   "execution_count": 27,
   "id": "3a903bf0-e9f3-41ee-a4a4-17191ee10280",
   "metadata": {},
   "outputs": [
    {
     "name": "stdout",
     "output_type": "stream",
     "text": [
      "test accuracy score je: 0.816156\n",
      "test precision score je: 0.804168\n",
      "recall score je: 0.779568\n"
     ]
    }
   ],
   "source": [
    "scoring = ['accuracy', 'precision_macro', 'recall_macro']\n",
    "scores = cross_validate(clf_model, X_train, y_train, cv=5, scoring=scoring)\n",
    "\n",
    "print(\"test accuracy score je: %f\" % scores['test_accuracy'].mean())\n",
    "print(\"test precision score je: %f\" % scores['test_precision_macro'].mean())\n",
    "print(\"recall score je: %f\" % scores['test_recall_macro'].mean())"
   ]
  },
  {
   "cell_type": "code",
   "execution_count": 28,
   "id": "c20c8dc0-0313-4342-83e4-a445a170b394",
   "metadata": {},
   "outputs": [],
   "source": [
    "y_pred = clf_model.predict(X_test)"
   ]
  },
  {
   "cell_type": "code",
   "execution_count": 29,
   "id": "15c91cce-c3f6-43ed-8c3a-ed4e0d8c31f4",
   "metadata": {},
   "outputs": [
    {
     "name": "stdout",
     "output_type": "stream",
     "text": [
      "accuracy score je: 0.835691\n",
      "precision score je: 0.822314\n",
      "recall score je: 0.817303\n",
      "              precision    recall  f1-score   support\n",
      "\n",
      "         0.0       0.78      0.75      0.77       328\n",
      "         1.0       0.87      0.88      0.87       591\n",
      "\n",
      "    accuracy                           0.84       919\n",
      "   macro avg       0.82      0.82      0.82       919\n",
      "weighted avg       0.83      0.84      0.84       919\n",
      "\n"
     ]
    },
    {
     "name": "stderr",
     "output_type": "stream",
     "text": [
      "D:\\IAU_projekt\\env_name\\lib\\site-packages\\sklearn\\utils\\deprecation.py:87: FutureWarning: Function plot_confusion_matrix is deprecated; Function `plot_confusion_matrix` is deprecated in 1.0 and will be removed in 1.2. Use one of the class methods: ConfusionMatrixDisplay.from_predictions or ConfusionMatrixDisplay.from_estimator.\n",
      "  warnings.warn(msg, category=FutureWarning)\n"
     ]
    },
    {
     "data": {
      "text/plain": [
       "<sklearn.metrics._plot.confusion_matrix.ConfusionMatrixDisplay at 0x1b77597ad30>"
      ]
     },
     "execution_count": 29,
     "metadata": {},
     "output_type": "execute_result"
    },
    {
     "data": {
      "image/png": "[encoded data removed]",
      "text/plain": [
       "<Figure size 648x432 with 2 Axes>"
      ]
     },
     "metadata": {
      "needs_background": "light"
     },
     "output_type": "display_data"
    }
   ],
   "source": [
    "print(\"accuracy score je: %f\" % accuracy_score(y_test, y_pred))\n",
    "print(\"precision score je: %f\" % precision_score(y_test, y_pred, average=\"macro\"))\n",
    "print(\"recall score je: %f\" % recall_score(y_test, y_pred, average=\"macro\"))\n",
    "print(classification_report(y_test,y_pred))\n",
    "plot_confusion_matrix(clf_model, X_test, y_test)"
   ]
  },
  {
   "cell_type": "markdown",
   "id": "68eed948",
   "metadata": {},
   "source": [
    "Teraz vyskúšame dať do pipeline numerické dáta bez odstránených outlierov"
   ]
  },
  {
   "cell_type": "code",
   "execution_count": 30,
   "id": "d78c3352-168d-47ce-88ae-ac0c1b8ebf38",
   "metadata": {},
   "outputs": [],
   "source": [
    "# v data_outlier sú teraz nevyškálované numerické dáta s outliermi\n",
    "data_outlier = pd.read_csv(\"163/outlier_data.csv\", sep=',', index_col=0)\n",
    "cat_data = pd.read_csv(\"163/categoric_data.csv\", sep=',', index_col=0)\n",
    "df = data_outlier.merge(cat_data, on='ssn')\n",
    "df = df.drop('job', axis='columns')"
   ]
  },
  {
   "cell_type": "code",
   "execution_count": 31,
   "id": "4a4efc83-5795-46b1-bf4e-e1fcdbba17e4",
   "metadata": {},
   "outputs": [],
   "source": [
    "#vyextrahujeme si numericke a kategoricke atributy aby sme si pre ne mohli neskor nastavit pipeline\n",
    "cat_cols = list(df.dtypes[df.dtypes == 'object'].index.values)\n",
    "num_cols = list(df.dtypes[df.dtypes != 'object'].index.values)\n",
    "num_cols.remove('indicator')\n",
    "\n",
    "for col in cat_cols:\n",
    "    df[col] = df[col].astype('category')\n",
    "\n",
    "X = df[df.columns.difference(['indicator'])]\n",
    "y = df['indicator']\n",
    "#rozdelime si data na trenovacie a testovacie\n",
    "X_train, X_test, y_train, y_test = train_test_split(X, y, test_size=0.30, random_state=42)"
   ]
  },
  {
   "cell_type": "code",
   "execution_count": 32,
   "id": "9c3ee57b-a9ff-4f4f-81a7-4c7de6c11545",
   "metadata": {},
   "outputs": [],
   "source": [
    "numerical = Pipeline(steps=[\n",
    "    ('imputer', SimpleImputer(strategy='mean')),\n",
    "    ('scaler', StandardScaler())])\n",
    "\n",
    "column_preprocessor = ColumnTransformer(\n",
    "    transformers=[\n",
    "        ('num', numerical, num_cols),\n",
    "        ('cat', OneHotEncoder(), cat_cols)])\n",
    "\n",
    "clf = Pipeline(steps=[('preprocessor', column_preprocessor),\n",
    "                      ('classifier', tree.DecisionTreeClassifier(criterion='entropy', splitter='best', max_depth=6, min_samples_split=26, min_samples_leaf=2, \n",
    "                                                                 min_weight_fraction_leaf=0, max_features=None, random_state=None))])"
   ]
  },
  {
   "cell_type": "code",
   "execution_count": 33,
   "id": "bb4ea018",
   "metadata": {},
   "outputs": [],
   "source": [
    "clf_model = clf.fit(X_train, y_train)"
   ]
  },
  {
   "cell_type": "code",
   "execution_count": 34,
   "id": "891ac3cf",
   "metadata": {},
   "outputs": [
    {
     "name": "stdout",
     "output_type": "stream",
     "text": [
      "test accuracy score je: 0.820767\n",
      "test precision score je: 0.807243\n",
      "recall score je: 0.784724\n"
     ]
    }
   ],
   "source": [
    "scoring = ['accuracy', 'precision_macro', 'recall_macro']\n",
    "scores = cross_validate(clf_model, X_train, y_train, cv=5, scoring=scoring)\n",
    "\n",
    "print(\"test accuracy score je: %f\" % scores['test_accuracy'].mean())\n",
    "print(\"test precision score je: %f\" % scores['test_precision_macro'].mean())\n",
    "print(\"recall score je: %f\" % scores['test_recall_macro'].mean())"
   ]
  },
  {
   "cell_type": "code",
   "execution_count": 35,
   "id": "191249b2",
   "metadata": {},
   "outputs": [],
   "source": [
    "y_pred = clf_model.predict(X_test)"
   ]
  },
  {
   "cell_type": "markdown",
   "id": "c8f195dd",
   "metadata": {},
   "source": [
    "Zmeníme stratégiu simple imputeru na mean a scaler na MinMaxScaler"
   ]
  },
  {
   "cell_type": "code",
   "execution_count": 36,
   "id": "cb99f9b1",
   "metadata": {},
   "outputs": [
    {
     "name": "stdout",
     "output_type": "stream",
     "text": [
      "accuracy score je: 0.818675\n",
      "precision score je: 0.807483\n",
      "recall score je: 0.795826\n",
      "              precision    recall  f1-score   support\n",
      "\n",
      "         0.0       0.77      0.71      0.74       336\n",
      "         1.0       0.84      0.88      0.86       585\n",
      "\n",
      "    accuracy                           0.82       921\n",
      "   macro avg       0.81      0.80      0.80       921\n",
      "weighted avg       0.82      0.82      0.82       921\n",
      "\n"
     ]
    },
    {
     "name": "stderr",
     "output_type": "stream",
     "text": [
      "D:\\IAU_projekt\\env_name\\lib\\site-packages\\sklearn\\utils\\deprecation.py:87: FutureWarning: Function plot_confusion_matrix is deprecated; Function `plot_confusion_matrix` is deprecated in 1.0 and will be removed in 1.2. Use one of the class methods: ConfusionMatrixDisplay.from_predictions or ConfusionMatrixDisplay.from_estimator.\n",
      "  warnings.warn(msg, category=FutureWarning)\n"
     ]
    },
    {
     "data": {
      "text/plain": [
       "<sklearn.metrics._plot.confusion_matrix.ConfusionMatrixDisplay at 0x1b775970520>"
      ]
     },
     "execution_count": 36,
     "metadata": {},
     "output_type": "execute_result"
    },
    {
     "data": {
      "image/png": "[encoded data removed]",
      "text/plain": [
       "<Figure size 648x432 with 2 Axes>"
      ]
     },
     "metadata": {
      "needs_background": "light"
     },
     "output_type": "display_data"
    }
   ],
   "source": [
    "print(\"accuracy score je: %f\" % accuracy_score(y_test, y_pred))\n",
    "print(\"precision score je: %f\" % precision_score(y_test, y_pred, average=\"macro\"))\n",
    "print(\"recall score je: %f\" % recall_score(y_test, y_pred, average=\"macro\"))\n",
    "print(classification_report(y_test,y_pred))\n",
    "plot_confusion_matrix(clf_model, X_test, y_test)"
   ]
  },
  {
   "cell_type": "markdown",
   "id": "4655b401",
   "metadata": {},
   "source": [
    "V nasledujúcej tabuľke sú zobrazené výsledky pre viaceré kombinácie škálovania a imputeru z pipeline. Pri hodnote median je najlepší výsledok true positive a true negative (dávajú súčet 768), ale majú horšie accuracy skóre, aj keď nie nejak výrazne. Hodnoty skóre sú pri MinMax a Standard škálovaní rovnaké.\n",
    "\n",
    "Pri hodnote mean v imputeri sú výsledky pre žiadne škálovanie rovnako dobré ako pre Standard škálovanie. MinMax Scaler má o niečo horšie skóre.\n",
    "\n",
    "Skratky znamenajú nasledovné:\n",
    "- AS: accuracy score\n",
    "- PS: precission score\n",
    "- RS: recall score\n",
    "- TP: true positive\n",
    "- TN: true negative\n",
    "- FP: false positive\n",
    "- FN: false negative"
   ]
  },
  {
   "cell_type": "markdown",
   "id": "5c58aa10",
   "metadata": {},
   "source": [
    "| Imputer | Score | Scaler   |          |          |\n",
    "|---------|-------|----------|----------|----------|\n",
    "|         |       | MinMax   | Standard | None     |\n",
    "|  Median | AS    | 0.816623 | 0.816156 | 0.816156 |\n",
    "|         | PS    | 0.804713 | 0.804168 | 0.804168 |\n",
    "|         | RS    | 0.779923 | 0.779568 | 0.779568 |\n",
    "|         | TP    | 521      | 521      | 524      |\n",
    "|         | TN    | 247      | 247      | 247      |\n",
    "|         | FP    | 81       | 81       | 81       |\n",
    "|         | FN    | 70       | 70       | 67       |\n",
    "| Mean    | AS    | 0.816156 | 0.816623 | 0.816623 |\n",
    "|         | PS    | 0.804168 | 0.804713 | 0.804713 |\n",
    "|         | RS    | 0.779568 | 0.779923 | 0.779923 |\n",
    "|         | TP    | 521      | 521      | 521      |\n",
    "|         | TN    | 247      | 247      | 247      |\n",
    "|         | FP    | 81       | 81       | 81       |\n",
    "|         | FN    | 70       | 70       | 70       |"
   ]
  },
  {
   "cell_type": "markdown",
   "id": "a643a85e",
   "metadata": {},
   "source": [
    "V ďalšej tabuľke je zobrazené skóre pre dáta s outliermi. Celkové hodnoty true positive a true negative sú o 13 nižšie ako hodnoty bez outlierov, tieto hodnoty dávajú súčet 755. Pre hodnoty median je najlepší scaler MinMax, pre hodnoty mean je to Standard scaler.\n",
    "Ďalej si môžeme všimnúť, že výsledky accuracy, precission aj recall score sú vyššie u hodnôt s outliermi"
   ]
  },
  {
   "cell_type": "markdown",
   "id": "b2d1655c",
   "metadata": {},
   "source": [
    "| Imputer | Score | Scaler   |          |          |\n",
    "|---------|-------|----------|----------|----------|\n",
    "|         |       | MinMax   | Standard | None     |\n",
    "|  Median | AS    | 0.819761 | 0.819834 | 0.818904 |\n",
    "|         | PS    | 0.808868 | 0.805742 | 0.804513 |\n",
    "|         | RS    | 0.796680 | 0.784020 | 0.782979 |\n",
    "|         | TP    | 516      | 516      | 515      |\n",
    "|         | TN    | 239      | 239      | 239      |\n",
    "|         | FP    | 97       | 97       | 97       |\n",
    "|         | FN    | 69       | 69       | 70       |\n",
    "| Mean    | AS    | 0.820301 | 0.820767 | 0.819761 |\n",
    "|         | PS    | 0.806547 | 0.807243 | 0.808868 |\n",
    "|         | RS    | 0.784034 | 0.784724 | 0.784034 |\n",
    "|         | TP    | 516      | 515      | 516      |\n",
    "|         | TN    | 239      | 239      | 239      |\n",
    "|         | FP    | 97       | 97       | 97       |\n",
    "|         | FN    | 69       | 70       | 69       |"
   ]
  }
 ],
 "metadata": {
  "kernelspec": {
   "display_name": "Python 3 (ipykernel)",
   "language": "python",
   "name": "python3"
  },
  "language_info": {
   "codemirror_mode": {
    "name": "ipython",
    "version": 3
   },
   "file_extension": ".py",
   "mimetype": "text/x-python",
   "name": "python",
   "nbconvert_exporter": "python",
   "pygments_lexer": "ipython3",
   "version": "3.9.7"
  }
 },
 "nbformat": 4,
 "nbformat_minor": 5
}
